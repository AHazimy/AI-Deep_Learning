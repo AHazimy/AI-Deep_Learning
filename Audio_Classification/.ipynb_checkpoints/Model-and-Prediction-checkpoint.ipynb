{
 "cells": [
  {
   "cell_type": "code",
   "execution_count": 4,
   "id": "da7086c8",
   "metadata": {},
   "outputs": [],
   "source": [
    "import pandas as pd\n",
    "import os\n",
    "import librosa\n",
    "import librosa.display\n",
    "import numpy as np\n",
    "import IPython.display as ipd\n",
    "import matplotlib.pyplot as plt"
   ]
  },
  {
   "cell_type": "code",
   "execution_count": 12,
   "id": "98f45c46",
   "metadata": {},
   "outputs": [
    {
     "data": {
      "text/plain": [
       "array([0., 0., 0., ..., 0., 0., 0.], dtype=float32)"
      ]
     },
     "execution_count": 12,
     "metadata": {},
     "output_type": "execute_result"
    },
    {
     "data": {
      "image/png": "[encoded data removed]",
      "text/plain": [
       "<Figure size 432x288 with 1 Axes>"
      ]
     },
     "metadata": {
      "needs_background": "light"
     },
     "output_type": "display_data"
    }
   ],
   "source": [
    "file_name='audio/Car/mixkit-car-engine-start-1566.wav'\n",
    "\n",
    "audio_data, sampling_rate = librosa.load(file_name)\n",
    "librosa.display.waveshow(audio_data,sr=sampling_rate)\n",
    "ipd.Audio(file_name)\n",
    "\n",
    "audio_data"
   ]
  },
  {
   "cell_type": "code",
   "execution_count": 14,
   "id": "b497e4ac",
   "metadata": {},
   "outputs": [
    {
     "data": {
      "text/plain": [
       "22050"
      ]
     },
     "execution_count": 14,
     "metadata": {},
     "output_type": "execute_result"
    }
   ],
   "source": [
    "sampling_rate"
   ]
  },
  {
   "cell_type": "code",
   "execution_count": 31,
   "id": "8fad9d7d",
   "metadata": {},
   "outputs": [
    {
     "name": "stdout",
     "output_type": "stream",
     "text": [
      "                                           file_name  class\n",
      "0  C:\\Users\\Unkown\\Desktop\\AI_Projects\\Twitts_cla...    Car\n",
      "1  C:\\Users\\Unkown\\Desktop\\AI_Projects\\Twitts_cla...    Car\n",
      "2  C:\\Users\\Unkown\\Desktop\\AI_Projects\\Twitts_cla...    Car\n",
      "3  C:\\Users\\Unkown\\Desktop\\AI_Projects\\Twitts_cla...    Car\n",
      "4  C:\\Users\\Unkown\\Desktop\\AI_Projects\\Twitts_cla...  Eagle\n",
      "5  C:\\Users\\Unkown\\Desktop\\AI_Projects\\Twitts_cla...  Eagle\n",
      "6  C:\\Users\\Unkown\\Desktop\\AI_Projects\\Twitts_cla...  Eagle\n",
      "7  C:\\Users\\Unkown\\Desktop\\AI_Projects\\Twitts_cla...  Eagle\n"
     ]
    }
   ],
   "source": [
    "!python prepare_csv.py"
   ]
  },
  {
   "cell_type": "code",
   "execution_count": 50,
   "id": "d7baa860",
   "metadata": {},
   "outputs": [
    {
     "data": {
      "text/plain": [
       "Car      4\n",
       "Eagle    4\n",
       "Name: class, dtype: int64"
      ]
     },
     "execution_count": 50,
     "metadata": {},
     "output_type": "execute_result"
    }
   ],
   "source": [
    "import pandas as pd\n",
    "\n",
    "metadata = pd.read_csv('myData.csv')\n",
    "num_label = len(metadata['class'].unique())\n",
    "metadata['class'].value_counts()"
   ]
  },
  {
   "cell_type": "code",
   "execution_count": 34,
   "id": "464eeab6",
   "metadata": {},
   "outputs": [
    {
     "data": {
      "text/plain": [
       "array([[-6.0323895e+02, -6.0323895e+02, -6.0323895e+02, ...,\n",
       "        -5.9899890e+02, -6.0239996e+02, -6.0323895e+02],\n",
       "       [ 0.0000000e+00,  0.0000000e+00,  0.0000000e+00, ...,\n",
       "         5.9741979e+00,  1.1832876e+00,  0.0000000e+00],\n",
       "       [ 0.0000000e+00,  0.0000000e+00,  0.0000000e+00, ...,\n",
       "         5.9081101e+00,  1.1734238e+00,  0.0000000e+00],\n",
       "       ...,\n",
       "       [ 0.0000000e+00,  0.0000000e+00,  0.0000000e+00, ...,\n",
       "        -9.3376637e-01, -2.5025430e-01,  0.0000000e+00],\n",
       "       [ 0.0000000e+00,  0.0000000e+00,  0.0000000e+00, ...,\n",
       "        -8.0545676e-01, -2.6049238e-01,  0.0000000e+00],\n",
       "       [ 0.0000000e+00,  0.0000000e+00,  0.0000000e+00, ...,\n",
       "        -6.7114294e-01, -2.7021971e-01,  0.0000000e+00]], dtype=float32)"
      ]
     },
     "execution_count": 34,
     "metadata": {},
     "output_type": "execute_result"
    }
   ],
   "source": [
    "# get pattern from the random file 'audio_data'\n",
    "mfccs = librosa.feature.mfcc(y=audio_data, sr=sampling_rate, n_mfcc=40)\n",
    "mfccs"
   ]
  },
  {
   "cell_type": "code",
   "execution_count": 35,
   "id": "55367917",
   "metadata": {},
   "outputs": [],
   "source": [
    "# function that extract features\n",
    "def features_extractor(file):\n",
    "    audio, sample_rate = librosa.load(file_name, res_type='kaiser_fast') \n",
    "    mfccs_features = librosa.feature.mfcc(y=audio, sr=sample_rate, n_mfcc=40)\n",
    "    mfccs_scaled_features = np.mean(mfccs_features.T,axis=0)\n",
    "    \n",
    "    return mfccs_scaled_features"
   ]
  },
  {
   "cell_type": "code",
   "execution_count": 36,
   "id": "3b3b2b72",
   "metadata": {},
   "outputs": [
    {
     "name": "stderr",
     "output_type": "stream",
     "text": [
      "8it [00:00, 30.53it/s]\n"
     ]
    }
   ],
   "source": [
    "from tqdm import tqdm\n",
    "\n",
    "extracted_features=[]\n",
    "for index_num,row in tqdm(metadata.iterrows()):\n",
    "    file_name = row['file_name']\n",
    "    final_class_labels=row[\"class\"]\n",
    "    data=features_extractor(file_name)\n",
    "    extracted_features.append([data,final_class_labels])"
   ]
  },
  {
   "cell_type": "code",
   "execution_count": 40,
   "id": "df4aa038",
   "metadata": {},
   "outputs": [
    {
     "data": {
      "text/html": [
       "<div>\n",
       "<style scoped>\n",
       "    .dataframe tbody tr th:only-of-type {\n",
       "        vertical-align: middle;\n",
       "    }\n",
       "\n",
       "    .dataframe tbody tr th {\n",
       "        vertical-align: top;\n",
       "    }\n",
       "\n",
       "    .dataframe thead th {\n",
       "        text-align: right;\n",
       "    }\n",
       "</style>\n",
       "<table border=\"1\" class=\"dataframe\">\n",
       "  <thead>\n",
       "    <tr style=\"text-align: right;\">\n",
       "      <th></th>\n",
       "      <th>feature</th>\n",
       "      <th>class</th>\n",
       "    </tr>\n",
       "  </thead>\n",
       "  <tbody>\n",
       "    <tr>\n",
       "      <th>0</th>\n",
       "      <td>[-201.37704, 112.620255, -26.709906, 28.464378...</td>\n",
       "      <td>Car</td>\n",
       "    </tr>\n",
       "    <tr>\n",
       "      <th>1</th>\n",
       "      <td>[-402.50232, 61.699894, 5.1527915, 26.03257, 1...</td>\n",
       "      <td>Car</td>\n",
       "    </tr>\n",
       "    <tr>\n",
       "      <th>2</th>\n",
       "      <td>[-42.80152, 27.585606, -35.583534, 12.56069, -...</td>\n",
       "      <td>Car</td>\n",
       "    </tr>\n",
       "    <tr>\n",
       "      <th>3</th>\n",
       "      <td>[-133.09457, 134.2189, -14.768551, 23.870815, ...</td>\n",
       "      <td>Car</td>\n",
       "    </tr>\n",
       "    <tr>\n",
       "      <th>4</th>\n",
       "      <td>[-199.13995, 116.4059, -123.49991, 60.68014, 2...</td>\n",
       "      <td>Eagle</td>\n",
       "    </tr>\n",
       "    <tr>\n",
       "      <th>5</th>\n",
       "      <td>[-68.2385, 51.75626, -111.918304, 53.614853, -...</td>\n",
       "      <td>Eagle</td>\n",
       "    </tr>\n",
       "    <tr>\n",
       "      <th>6</th>\n",
       "      <td>[-296.63446, 94.03138, -115.88366, 77.12701, 3...</td>\n",
       "      <td>Eagle</td>\n",
       "    </tr>\n",
       "    <tr>\n",
       "      <th>7</th>\n",
       "      <td>[-206.53246, 93.59267, -159.28691, 41.785645, ...</td>\n",
       "      <td>Eagle</td>\n",
       "    </tr>\n",
       "  </tbody>\n",
       "</table>\n",
       "</div>"
      ],
      "text/plain": [
       "                                             feature  class\n",
       "0  [-201.37704, 112.620255, -26.709906, 28.464378...    Car\n",
       "1  [-402.50232, 61.699894, 5.1527915, 26.03257, 1...    Car\n",
       "2  [-42.80152, 27.585606, -35.583534, 12.56069, -...    Car\n",
       "3  [-133.09457, 134.2189, -14.768551, 23.870815, ...    Car\n",
       "4  [-199.13995, 116.4059, -123.49991, 60.68014, 2...  Eagle\n",
       "5  [-68.2385, 51.75626, -111.918304, 53.614853, -...  Eagle\n",
       "6  [-296.63446, 94.03138, -115.88366, 77.12701, 3...  Eagle\n",
       "7  [-206.53246, 93.59267, -159.28691, 41.785645, ...  Eagle"
      ]
     },
     "execution_count": 40,
     "metadata": {},
     "output_type": "execute_result"
    }
   ],
   "source": [
    "extracted_features_df=pd.DataFrame(extracted_features,columns=['feature','class'])\n",
    "extracted_features_df"
   ]
  },
  {
   "cell_type": "code",
   "execution_count": 41,
   "id": "d003ece7",
   "metadata": {},
   "outputs": [],
   "source": [
    "X=np.array(extracted_features_df['feature'].tolist())\n",
    "y=np.array(extracted_features_df['class'].tolist())"
   ]
  },
  {
   "cell_type": "code",
   "execution_count": 42,
   "id": "d96f1052",
   "metadata": {},
   "outputs": [],
   "source": [
    "from tensorflow.keras.utils import to_categorical\n",
    "from sklearn.preprocessing import LabelEncoder\n",
    "labelencoder=LabelEncoder()\n",
    "y=to_categorical(labelencoder.fit_transform(y))"
   ]
  },
  {
   "cell_type": "code",
   "execution_count": 44,
   "id": "ae26065e",
   "metadata": {},
   "outputs": [
    {
     "data": {
      "text/plain": [
       "array([[1., 0.],\n",
       "       [1., 0.],\n",
       "       [1., 0.],\n",
       "       [1., 0.],\n",
       "       [0., 1.],\n",
       "       [0., 1.],\n",
       "       [0., 1.],\n",
       "       [0., 1.]], dtype=float32)"
      ]
     },
     "execution_count": 44,
     "metadata": {},
     "output_type": "execute_result"
    }
   ],
   "source": [
    "# encoded classses (eg. [1, 0]==>Car  /   [0, 1]==>Eagle)\n",
    "y"
   ]
  },
  {
   "cell_type": "code",
   "execution_count": 45,
   "id": "33c9b4a2",
   "metadata": {},
   "outputs": [],
   "source": [
    "from sklearn.model_selection import train_test_split\n",
    "X_train,X_test,y_train,y_test=train_test_split(X,y,test_size=0.2,random_state=0)"
   ]
  },
  {
   "cell_type": "code",
   "execution_count": 47,
   "id": "c009d5e1",
   "metadata": {},
   "outputs": [],
   "source": [
    "import tensorflow as tf\n",
    "from tensorflow.keras.models import Sequential\n",
    "from tensorflow.keras.layers import Dense,Dropout,Activation,Flatten\n",
    "from tensorflow.keras.optimizers import Adam\n",
    "from sklearn import metrics"
   ]
  },
  {
   "cell_type": "code",
   "execution_count": 51,
   "id": "1455aaac",
   "metadata": {},
   "outputs": [],
   "source": [
    "model=Sequential()\n",
    "###first layer\n",
    "model.add(Dense(100,input_shape=(40,)))\n",
    "model.add(Activation('relu'))\n",
    "model.add(Dropout(0.5))\n",
    "###second layer\n",
    "model.add(Dense(200))\n",
    "model.add(Activation('relu'))\n",
    "model.add(Dropout(0.5))\n",
    "###third layer\n",
    "model.add(Dense(100))\n",
    "model.add(Activation('relu'))\n",
    "model.add(Dropout(0.5))\n",
    "\n",
    "###final layer\n",
    "model.add(Dense(num_label))\n",
    "model.add(Activation('softmax'))"
   ]
  },
  {
   "cell_type": "code",
   "execution_count": 53,
   "id": "43d55498",
   "metadata": {},
   "outputs": [],
   "source": [
    "model.compile(loss='categorical_crossentropy',metrics=['accuracy'],optimizer='adam')"
   ]
  },
  {
   "cell_type": "code",
   "execution_count": 2,
   "id": "67665323",
   "metadata": {
    "scrolled": false
   },
   "outputs": [
    {
     "name": "stdout",
     "output_type": "stream",
     "text": [
      "Training completed in time:  0:00:00\n"
     ]
    }
   ],
   "source": [
    "from tensorflow.keras.callbacks import ModelCheckpoint\n",
    "from datetime import datetime \n",
    "\n",
    "num_epochs = 10000\n",
    "num_batch_size = 32\n",
    "\n",
    "checkpointer = ModelCheckpoint(filepath='saved_models/audio_classification.hdf5', \n",
    "                                verbose=1, save_best_only=True)\n",
    "start = datetime.now()\n",
    "\n",
    "#to run training uncomment the line below\n",
    "# model.fit(X_train, y_train, batch_size=num_batch_size, epochs=num_epochs, validation_data=(X_test, y_test), callbacks=[checkpointer], verbose=1)\n",
    "\n",
    "\n",
    "duration = datetime.now() - start\n",
    "print(\"Training completed in time: \", duration);"
   ]
  },
  {
   "cell_type": "code",
   "execution_count": 56,
   "id": "424f7ae6",
   "metadata": {
    "scrolled": false
   },
   "outputs": [
    {
     "name": "stdout",
     "output_type": "stream",
     "text": [
      "1.0\n"
     ]
    }
   ],
   "source": [
    "test_accuracy=model.evaluate(X_test,y_test,verbose=0)\n",
    "print(test_accuracy[1])"
   ]
  },
  {
   "cell_type": "code",
   "execution_count": null,
   "id": "dfb8541f",
   "metadata": {},
   "outputs": [],
   "source": []
  },
  {
   "cell_type": "markdown",
   "id": "910067b4",
   "metadata": {},
   "source": [
    "# Prediction"
   ]
  },
  {
   "cell_type": "code",
   "execution_count": 61,
   "id": "d9334ad0",
   "metadata": {},
   "outputs": [
    {
     "name": "stdout",
     "output_type": "stream",
     "text": [
      "[-2.01377045e+02  1.12620255e+02 -2.67099056e+01  2.84643784e+01\n",
      " -8.39695549e+00  3.59533882e+01 -4.73325290e-02  1.42036009e+01\n",
      " -9.04941273e+00  1.40473480e+01 -7.13888407e+00  1.07011080e+01\n",
      " -1.05352707e+01  7.20454121e+00 -8.89218521e+00  5.82951593e+00\n",
      " -8.40549946e+00  1.82124639e+00 -6.62720490e+00  7.32406807e+00\n",
      " -4.47544479e+00  1.44982529e+00 -5.11580658e+00 -1.47382784e+00\n",
      " -2.74050808e+00 -2.54453349e+00 -6.91523504e+00 -5.42871475e+00\n",
      " -5.63754892e+00 -1.78171206e+00  2.26569489e-01 -5.40929019e-01\n",
      " -2.46550775e+00 -1.38637833e-02  2.14091957e-01 -2.05649328e+00\n",
      " -3.31920099e+00 -1.56533048e-01 -1.27471280e+00 -4.11184692e+00]\n",
      "[[-2.01377045e+02  1.12620255e+02 -2.67099056e+01  2.84643784e+01\n",
      "  -8.39695549e+00  3.59533882e+01 -4.73325290e-02  1.42036009e+01\n",
      "  -9.04941273e+00  1.40473480e+01 -7.13888407e+00  1.07011080e+01\n",
      "  -1.05352707e+01  7.20454121e+00 -8.89218521e+00  5.82951593e+00\n",
      "  -8.40549946e+00  1.82124639e+00 -6.62720490e+00  7.32406807e+00\n",
      "  -4.47544479e+00  1.44982529e+00 -5.11580658e+00 -1.47382784e+00\n",
      "  -2.74050808e+00 -2.54453349e+00 -6.91523504e+00 -5.42871475e+00\n",
      "  -5.63754892e+00 -1.78171206e+00  2.26569489e-01 -5.40929019e-01\n",
      "  -2.46550775e+00 -1.38637833e-02  2.14091957e-01 -2.05649328e+00\n",
      "  -3.31920099e+00 -1.56533048e-01 -1.27471280e+00 -4.11184692e+00]]\n",
      "(1, 40)\n",
      "1/1 [==============================] - 0s 17ms/step\n",
      "[[1. 0.]]\n"
     ]
    },
    {
     "data": {
      "text/plain": [
       "array(['Car'], dtype='<U5')"
      ]
     },
     "execution_count": 61,
     "metadata": {},
     "output_type": "execute_result"
    }
   ],
   "source": [
    "filename=\"test/Mahindra Thar ! Exhaust Sound ! Message Tone.wav\"\n",
    "audio, sample_rate = librosa.load(filename, res_type='kaiser_fast') \n",
    "mfccs_features = librosa.feature.mfcc(y=audio, sr=sample_rate, n_mfcc=40)\n",
    "mfccs_scaled_features = np.mean(mfccs_features.T,axis=0)\n",
    "\n",
    "print(mfccs_scaled_features)\n",
    "mfccs_scaled_features=mfccs_scaled_features.reshape(1,-1)\n",
    "print(mfccs_scaled_features)\n",
    "print(mfccs_scaled_features.shape)\n",
    "predicted_label=model.predict(mfccs_scaled_features)\n",
    "print(predicted_label)\n",
    "classes_x=np.argmax(predicted_label,axis=1)\n",
    "prediction_class = labelencoder.inverse_transform(classes_x)\n",
    "prediction_class"
   ]
  }
 ],
 "metadata": {
  "kernelspec": {
   "display_name": "Python 3 (ipykernel)",
   "language": "python",
   "name": "python3"
  },
  "language_info": {
   "codemirror_mode": {
    "name": "ipython",
    "version": 3
   },
   "file_extension": ".py",
   "mimetype": "text/x-python",
   "name": "python",
   "nbconvert_exporter": "python",
   "pygments_lexer": "ipython3",
   "version": "3.10.4"
  }
 },
 "nbformat": 4,
 "nbformat_minor": 5
}
